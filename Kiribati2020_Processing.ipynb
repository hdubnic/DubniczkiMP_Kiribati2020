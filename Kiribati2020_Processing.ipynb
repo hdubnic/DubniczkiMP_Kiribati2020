{
 "cells": [
  {
   "cell_type": "code",
   "execution_count": 1,
   "id": "ce35a0e2-f53f-41b4-890f-1d3a1720b0ea",
   "metadata": {},
   "outputs": [
    {
     "data": {
      "text/plain": [
       "'/home/jovyan/PNACaseStudy'"
      ]
     },
     "execution_count": 1,
     "metadata": {},
     "output_type": "execute_result"
    }
   ],
   "source": [
    "import pandas as pd\n",
    "import geopandas as gpd\n",
    "import os\n",
    "os.getcwd()"
   ]
  },
  {
   "cell_type": "code",
   "execution_count": 2,
   "id": "98abddce-db1f-49bf-9b9d-15b309b2642b",
   "metadata": {},
   "outputs": [],
   "source": [
    "csv_directory = '/home/jovyan/PNACaseStudy'"
   ]
  },
  {
   "cell_type": "markdown",
   "id": "f89b766f-680a-479b-b373-19a4cf8296e5",
   "metadata": {
    "tags": []
   },
   "source": [
    "## Wrangle 2020 effort data"
   ]
  },
  {
   "cell_type": "code",
   "execution_count": 14,
   "id": "223b2589-3945-4fe5-a2fc-37e57ba65093",
   "metadata": {},
   "outputs": [],
   "source": [
    "effort2020 = pd.read_csv('combined2020.csv')"
   ]
  },
  {
   "cell_type": "code",
   "execution_count": 15,
   "id": "fefa31cd-49dc-4412-8c17-b91adf02b91a",
   "metadata": {},
   "outputs": [],
   "source": [
    "grouped_df = effort2020.groupby(['mmsi', 'date', 'cell_ll_lat', 'cell_ll_lon']).agg({\n",
    "    'hours': 'sum',\n",
    "    'fishing_hours': 'sum'\n",
    "}).reset_index()"
   ]
  },
  {
   "cell_type": "code",
   "execution_count": 16,
   "id": "f8396629-a060-450c-8709-e2c28571b1a6",
   "metadata": {},
   "outputs": [
    {
     "name": "stdout",
     "output_type": "stream",
     "text": [
      "   mmsi        date  cell_ll_lat  cell_ll_lon   hours  fishing_hours\n",
      "0   156  2020-01-04          6.8         79.4  0.5330         0.2777\n",
      "1   156  2020-01-04          6.9         79.5  1.6666         0.0000\n",
      "2   156  2020-01-04          7.0         79.5  0.2630         0.0000\n",
      "3   156  2020-01-04          7.0         79.6  1.6666         1.6666\n",
      "4   156  2020-01-04          7.1         79.6  0.2666         0.2666\n"
     ]
    }
   ],
   "source": [
    "print(grouped_df.head())"
   ]
  },
  {
   "cell_type": "code",
   "execution_count": 17,
   "id": "79e0c7a1-f608-4f4a-9736-c27a2c80da0d",
   "metadata": {},
   "outputs": [],
   "source": [
    "GFW2020Points = gpd.GeoDataFrame(\n",
    "    grouped_df, geometry=gpd.points_from_xy(grouped_df.cell_ll_lon, grouped_df.cell_ll_lat), crs=\"EPSG:4326\") "
   ]
  },
  {
   "cell_type": "code",
   "execution_count": 18,
   "id": "e087a7fe-6366-44e9-8f6f-aafb26fdedaa",
   "metadata": {},
   "outputs": [],
   "source": [
    "del(effort2020)"
   ]
  },
  {
   "cell_type": "code",
   "execution_count": 19,
   "id": "85c49fe3-b370-4cf3-93e1-5b118f00ca7d",
   "metadata": {},
   "outputs": [],
   "source": [
    "del(grouped_df)"
   ]
  },
  {
   "cell_type": "markdown",
   "id": "f70077d5-763e-4b6f-a041-3d128798fed7",
   "metadata": {
    "tags": []
   },
   "source": [
    "### Clip 2020 GFW data to PNA EEZ boundaries"
   ]
  },
  {
   "cell_type": "code",
   "execution_count": 19,
   "id": "2d07d129-181c-4ec4-ab0f-09de8f8c8116",
   "metadata": {},
   "outputs": [],
   "source": [
    "PNA = gpd.read_file('PNA_EEZs.shp')"
   ]
  },
  {
   "cell_type": "code",
   "execution_count": 20,
   "id": "6a129a59-ce60-4be3-8270-46a0abe9df2a",
   "metadata": {},
   "outputs": [
    {
     "name": "stdout",
     "output_type": "stream",
     "text": [
      "     MRGID                                            GEONAME  MRGID_TER1  \\\n",
      "0   8449.0                    Tokelau Exclusive Economic Zone      8675.0   \n",
      "1   8450.0  Kiribati Exclusive Economic Zone (Phoenix Isla...      8658.0   \n",
      "2  21798.0  Protected Zone established under the Torres St...      2237.0   \n",
      "3   8314.0            Solomon Islands Exclusive Economic Zone      8593.0   \n",
      "4   8318.0           Marshall Islands Exclusive Economic Zone      2226.0   \n",
      "\n",
      "       POL_TYPE  MRGID_SOV1        TERRITORY1 ISO_TER1        SOVEREIGN1  \\\n",
      "0         200NM      2227.0           Tokelau      TKL       New Zealand   \n",
      "1         200NM      2116.0     Phoenix Group      KIR          Kiribati   \n",
      "2  Joint regime      2237.0  Papua New Guinea      PNG  Papua New Guinea   \n",
      "3         200NM      8593.0   Solomon Islands      SLB   Solomon Islands   \n",
      "4         200NM      2226.0  Marshall Islands      MHL  Marshall Islands   \n",
      "\n",
      "   MRGID_TER2  MRGID_SOV2  ... ISO_SOV3 UN_SOV1 UN_SOV2  UN_SOV3  UN_TER1  \\\n",
      "0         0.0         0.0  ...     None   554.0     0.0      0.0    772.0   \n",
      "1         0.0         0.0  ...     None   296.0     0.0      0.0    296.0   \n",
      "2      2147.0      2147.0  ...     None   598.0    36.0      0.0    598.0   \n",
      "3         0.0         0.0  ...     None    90.0     0.0      0.0     90.0   \n",
      "4         0.0         0.0  ...     None   584.0     0.0      0.0    584.0   \n",
      "\n",
      "  UN_TER2 UN_TER3  Shape_Leng  Shape_Area  \\\n",
      "0     0.0     0.0   21.788829   26.341423   \n",
      "1     0.0     0.0   31.954812   60.740720   \n",
      "2    36.0     0.0    4.025286    0.306028   \n",
      "3     0.0     0.0  141.231790  132.531973   \n",
      "4     0.0     0.0  129.679889  165.428907   \n",
      "\n",
      "                                            geometry  \n",
      "0  POLYGON ((-168.90766 -6.87987, -168.90617 -6.8...  \n",
      "1  POLYGON ((-168.90766 -6.87987, -168.90931 -6.8...  \n",
      "2  POLYGON ((142.85111 -9.67350, 142.80445 -9.676...  \n",
      "3  POLYGON ((173.59340 -11.84453, 173.57958 -11.9...  \n",
      "4  POLYGON ((175.51177 5.61219, 175.51108 5.61299...  \n",
      "\n",
      "[5 rows x 34 columns]\n"
     ]
    }
   ],
   "source": [
    "print(PNA.head())"
   ]
  },
  {
   "cell_type": "code",
   "execution_count": 21,
   "id": "93f1474d-a4b7-43f7-9587-a16ba07790bc",
   "metadata": {},
   "outputs": [],
   "source": [
    "KIR = PNA.loc[PNA['ISO_TER1'] == 'KIR']"
   ]
  },
  {
   "cell_type": "code",
   "execution_count": 22,
   "id": "aec6f358-b512-4523-97b1-88ad6ff236e5",
   "metadata": {},
   "outputs": [],
   "source": [
    "KIR_2020 = GFW2020Points.clip(KIR)"
   ]
  },
  {
   "cell_type": "code",
   "execution_count": 23,
   "id": "a84dae8b-088e-4af9-ad80-e8fab762ab6b",
   "metadata": {},
   "outputs": [
    {
     "name": "stdout",
     "output_type": "stream",
     "text": [
      "               mmsi        date  cell_ll_lat  cell_ll_lon   hours  \\\n",
      "45458986  440823000  2020-10-02         -4.1        173.6  0.4080   \n",
      "39661940  416253900  2020-07-29         -4.1        173.6  0.0827   \n",
      "31374546  412439604  2020-09-19         -4.1        173.5  0.6422   \n",
      "45547025  440900000  2020-08-17         -4.1        173.5  0.5552   \n",
      "47968460  554126120  2020-09-15         -4.1        173.6  0.3547   \n",
      "...             ...         ...          ...          ...     ...   \n",
      "48022454  572975210  2020-02-18          5.5       -160.5  3.1805   \n",
      "22942885  367640000  2020-10-06          5.6       -160.5  0.5038   \n",
      "22942884  367640000  2020-10-06          5.6       -160.6  0.6686   \n",
      "45754792  441084000  2020-03-13          6.4       -160.3  0.7061   \n",
      "45754791  441084000  2020-03-13          6.4       -160.4  0.6816   \n",
      "\n",
      "          fishing_hours                    geometry  \n",
      "45458986          0.000  POINT (173.60000 -4.10000)  \n",
      "39661940          0.000  POINT (173.60000 -4.10000)  \n",
      "31374546          0.145  POINT (173.50000 -4.10000)  \n",
      "45547025          0.000  POINT (173.50000 -4.10000)  \n",
      "47968460          0.000  POINT (173.60000 -4.10000)  \n",
      "...                 ...                         ...  \n",
      "48022454          0.000  POINT (-160.50000 5.50000)  \n",
      "22942885          0.000  POINT (-160.50000 5.60000)  \n",
      "22942884          0.000  POINT (-160.60000 5.60000)  \n",
      "45754792          0.000  POINT (-160.30000 6.40000)  \n",
      "45754791          0.000  POINT (-160.40000 6.40000)  \n",
      "\n",
      "[353173 rows x 7 columns]\n"
     ]
    }
   ],
   "source": [
    "print(KIR_2020)"
   ]
  },
  {
   "cell_type": "code",
   "execution_count": 140,
   "id": "c2ffdd4a-5c16-4db7-b055-2a0cd60ac1d7",
   "metadata": {},
   "outputs": [],
   "source": [
    "#PNAEEZs_2020 = GFW2020Points.clip(PNA)"
   ]
  },
  {
   "cell_type": "code",
   "execution_count": 141,
   "id": "b30fb9d5-cd8d-4e72-aacb-e29761d81f3f",
   "metadata": {
    "tags": []
   },
   "outputs": [],
   "source": [
    "#print(PNAEEZs_2020)"
   ]
  },
  {
   "cell_type": "code",
   "execution_count": 24,
   "id": "b9ca965c-600f-459e-820f-2b142ee8359e",
   "metadata": {},
   "outputs": [],
   "source": [
    "del(GFW2020Points)"
   ]
  },
  {
   "cell_type": "markdown",
   "id": "38291dd3-a5fd-4c01-9e73-d17fa93263fe",
   "metadata": {
    "tags": []
   },
   "source": [
    "### Add flag and gear type"
   ]
  },
  {
   "cell_type": "code",
   "execution_count": 25,
   "id": "d275c859-3919-4f43-8eac-b2201134e48c",
   "metadata": {},
   "outputs": [],
   "source": [
    "flag_gear_df = pd.read_csv('fishing-vessels-v2.csv')"
   ]
  },
  {
   "cell_type": "code",
   "execution_count": 26,
   "id": "eeeba557-a8a0-4b26-9852-6f9182480e28",
   "metadata": {},
   "outputs": [
    {
     "data": {
      "text/html": [
       "<div>\n",
       "<style scoped>\n",
       "    .dataframe tbody tr th:only-of-type {\n",
       "        vertical-align: middle;\n",
       "    }\n",
       "\n",
       "    .dataframe tbody tr th {\n",
       "        vertical-align: top;\n",
       "    }\n",
       "\n",
       "    .dataframe thead th {\n",
       "        text-align: right;\n",
       "    }\n",
       "</style>\n",
       "<table border=\"1\" class=\"dataframe\">\n",
       "  <thead>\n",
       "    <tr style=\"text-align: right;\">\n",
       "      <th></th>\n",
       "      <th>mmsi</th>\n",
       "      <th>flag_ais</th>\n",
       "      <th>flag_registry</th>\n",
       "      <th>flag_gfw</th>\n",
       "      <th>vessel_class_inferred</th>\n",
       "      <th>vessel_class_inferred_score</th>\n",
       "      <th>vessel_class_registry</th>\n",
       "      <th>vessel_class_gfw</th>\n",
       "      <th>self_reported_fishing_vessel</th>\n",
       "      <th>length_m_inferred</th>\n",
       "      <th>...</th>\n",
       "      <th>registries_listed</th>\n",
       "      <th>fishing_hours_2012</th>\n",
       "      <th>fishing_hours_2013</th>\n",
       "      <th>fishing_hours_2014</th>\n",
       "      <th>fishing_hours_2015</th>\n",
       "      <th>fishing_hours_2016</th>\n",
       "      <th>fishing_hours_2017</th>\n",
       "      <th>fishing_hours_2018</th>\n",
       "      <th>fishing_hours_2019</th>\n",
       "      <th>fishing_hours_2020</th>\n",
       "    </tr>\n",
       "  </thead>\n",
       "  <tbody>\n",
       "    <tr>\n",
       "      <th>0</th>\n",
       "      <td>40120000</td>\n",
       "      <td>NaN</td>\n",
       "      <td>GRC</td>\n",
       "      <td>GRC</td>\n",
       "      <td>NaN</td>\n",
       "      <td>NaN</td>\n",
       "      <td>trawlers</td>\n",
       "      <td>trawlers</td>\n",
       "      <td>True</td>\n",
       "      <td>NaN</td>\n",
       "      <td>...</td>\n",
       "      <td>EU|GFCM|IMO</td>\n",
       "      <td>NaN</td>\n",
       "      <td>NaN</td>\n",
       "      <td>NaN</td>\n",
       "      <td>NaN</td>\n",
       "      <td>NaN</td>\n",
       "      <td>NaN</td>\n",
       "      <td>NaN</td>\n",
       "      <td>NaN</td>\n",
       "      <td>674.10</td>\n",
       "    </tr>\n",
       "    <tr>\n",
       "      <th>1</th>\n",
       "      <td>444002410</td>\n",
       "      <td>NaN</td>\n",
       "      <td>KOR</td>\n",
       "      <td>KOR</td>\n",
       "      <td>NaN</td>\n",
       "      <td>NaN</td>\n",
       "      <td>tuna_purse_seines</td>\n",
       "      <td>tuna_purse_seines</td>\n",
       "      <td>False</td>\n",
       "      <td>NaN</td>\n",
       "      <td>...</td>\n",
       "      <td>FFA|IMO|ISSF|KOR|WCPFC|WCPFC2</td>\n",
       "      <td>NaN</td>\n",
       "      <td>NaN</td>\n",
       "      <td>NaN</td>\n",
       "      <td>NaN</td>\n",
       "      <td>NaN</td>\n",
       "      <td>NaN</td>\n",
       "      <td>NaN</td>\n",
       "      <td>NaN</td>\n",
       "      <td>144.43</td>\n",
       "    </tr>\n",
       "  </tbody>\n",
       "</table>\n",
       "<p>2 rows × 28 columns</p>\n",
       "</div>"
      ],
      "text/plain": [
       "        mmsi flag_ais flag_registry flag_gfw vessel_class_inferred  \\\n",
       "0   40120000      NaN           GRC      GRC                   NaN   \n",
       "1  444002410      NaN           KOR      KOR                   NaN   \n",
       "\n",
       "   vessel_class_inferred_score vessel_class_registry   vessel_class_gfw  \\\n",
       "0                          NaN              trawlers           trawlers   \n",
       "1                          NaN     tuna_purse_seines  tuna_purse_seines   \n",
       "\n",
       "  self_reported_fishing_vessel  length_m_inferred  ...  \\\n",
       "0                         True                NaN  ...   \n",
       "1                        False                NaN  ...   \n",
       "\n",
       "               registries_listed  fishing_hours_2012  fishing_hours_2013  \\\n",
       "0                    EU|GFCM|IMO                 NaN                 NaN   \n",
       "1  FFA|IMO|ISSF|KOR|WCPFC|WCPFC2                 NaN                 NaN   \n",
       "\n",
       "   fishing_hours_2014  fishing_hours_2015  fishing_hours_2016  \\\n",
       "0                 NaN                 NaN                 NaN   \n",
       "1                 NaN                 NaN                 NaN   \n",
       "\n",
       "   fishing_hours_2017  fishing_hours_2018 fishing_hours_2019  \\\n",
       "0                 NaN                 NaN                NaN   \n",
       "1                 NaN                 NaN                NaN   \n",
       "\n",
       "   fishing_hours_2020  \n",
       "0              674.10  \n",
       "1              144.43  \n",
       "\n",
       "[2 rows x 28 columns]"
      ]
     },
     "execution_count": 26,
     "metadata": {},
     "output_type": "execute_result"
    }
   ],
   "source": [
    "flag_gear_df.head(2)"
   ]
  },
  {
   "cell_type": "code",
   "execution_count": 27,
   "id": "ba806a7c-bc74-4829-9677-1103f45cfacd",
   "metadata": {},
   "outputs": [],
   "source": [
    "KIR_2020 = pd.merge(KIR_2020, flag_gear_df[['mmsi','flag_gfw','flag_ais','vessel_class_gfw']], on='mmsi', how='left')"
   ]
  },
  {
   "cell_type": "code",
   "execution_count": 28,
   "id": "5e9fcbdd-f8ce-4f3e-b6cf-c75941bea75e",
   "metadata": {},
   "outputs": [
    {
     "data": {
      "text/html": [
       "<div>\n",
       "<style scoped>\n",
       "    .dataframe tbody tr th:only-of-type {\n",
       "        vertical-align: middle;\n",
       "    }\n",
       "\n",
       "    .dataframe tbody tr th {\n",
       "        vertical-align: top;\n",
       "    }\n",
       "\n",
       "    .dataframe thead th {\n",
       "        text-align: right;\n",
       "    }\n",
       "</style>\n",
       "<table border=\"1\" class=\"dataframe\">\n",
       "  <thead>\n",
       "    <tr style=\"text-align: right;\">\n",
       "      <th></th>\n",
       "      <th>mmsi</th>\n",
       "      <th>date</th>\n",
       "      <th>cell_ll_lat</th>\n",
       "      <th>cell_ll_lon</th>\n",
       "      <th>hours</th>\n",
       "      <th>fishing_hours</th>\n",
       "      <th>geometry</th>\n",
       "      <th>flag_gfw</th>\n",
       "      <th>flag_ais</th>\n",
       "      <th>vessel_class_gfw</th>\n",
       "    </tr>\n",
       "  </thead>\n",
       "  <tbody>\n",
       "    <tr>\n",
       "      <th>0</th>\n",
       "      <td>440823000</td>\n",
       "      <td>2020-10-02</td>\n",
       "      <td>-4.1</td>\n",
       "      <td>173.6</td>\n",
       "      <td>0.4080</td>\n",
       "      <td>0.0</td>\n",
       "      <td>POINT (173.60000 -4.10000)</td>\n",
       "      <td>KOR</td>\n",
       "      <td>KOR</td>\n",
       "      <td>tuna_purse_seines</td>\n",
       "    </tr>\n",
       "    <tr>\n",
       "      <th>1</th>\n",
       "      <td>416253900</td>\n",
       "      <td>2020-07-29</td>\n",
       "      <td>-4.1</td>\n",
       "      <td>173.6</td>\n",
       "      <td>0.0827</td>\n",
       "      <td>0.0</td>\n",
       "      <td>POINT (173.60000 -4.10000)</td>\n",
       "      <td>TWN</td>\n",
       "      <td>TWN</td>\n",
       "      <td>tuna_purse_seines</td>\n",
       "    </tr>\n",
       "  </tbody>\n",
       "</table>\n",
       "</div>"
      ],
      "text/plain": [
       "        mmsi        date  cell_ll_lat  cell_ll_lon   hours  fishing_hours  \\\n",
       "0  440823000  2020-10-02         -4.1        173.6  0.4080            0.0   \n",
       "1  416253900  2020-07-29         -4.1        173.6  0.0827            0.0   \n",
       "\n",
       "                     geometry flag_gfw flag_ais   vessel_class_gfw  \n",
       "0  POINT (173.60000 -4.10000)      KOR      KOR  tuna_purse_seines  \n",
       "1  POINT (173.60000 -4.10000)      TWN      TWN  tuna_purse_seines  "
      ]
     },
     "execution_count": 28,
     "metadata": {},
     "output_type": "execute_result"
    }
   ],
   "source": [
    "KIR_2020.head(2)"
   ]
  },
  {
   "cell_type": "code",
   "execution_count": 29,
   "id": "730f7bad-99c8-430d-aa44-206f1c62ffed",
   "metadata": {},
   "outputs": [
    {
     "data": {
      "text/plain": [
       "353173"
      ]
     },
     "execution_count": 29,
     "metadata": {},
     "output_type": "execute_result"
    }
   ],
   "source": [
    "len(KIR_2020)"
   ]
  },
  {
   "cell_type": "code",
   "execution_count": 30,
   "id": "71725b6b-f2d9-4d37-9584-6f63f55dd556",
   "metadata": {},
   "outputs": [],
   "source": [
    "# Exporting 2020 effort file for all vessel types in KIR EEZ\n",
    "KIR_2020.to_csv(\"KIR_2020.csv\")"
   ]
  },
  {
   "cell_type": "code",
   "execution_count": 33,
   "id": "df7c8b5a-88bf-4087-954e-41188c7950cc",
   "metadata": {},
   "outputs": [],
   "source": [
    "# Filter for tuna purse seiners\n",
    "KIR_2020_TunaPurseSeines = KIR_2020[KIR_2020['vessel_class_gfw'] == 'tuna_purse_seines']"
   ]
  },
  {
   "cell_type": "code",
   "execution_count": 34,
   "id": "14ce52b3-816d-4224-8596-a3720b18af0b",
   "metadata": {},
   "outputs": [
    {
     "name": "stdout",
     "output_type": "stream",
     "text": [
      "        mmsi        date  cell_ll_lat  cell_ll_lon   hours  fishing_hours  \\\n",
      "0  440823000  2020-10-02         -4.1        173.6  0.4080          0.000   \n",
      "1  416253900  2020-07-29         -4.1        173.6  0.0827          0.000   \n",
      "2  412439604  2020-09-19         -4.1        173.5  0.6422          0.145   \n",
      "4  554126120  2020-09-15         -4.1        173.6  0.3547          0.000   \n",
      "6  416253900  2020-09-30         -4.1        174.6  0.6497          0.000   \n",
      "\n",
      "                     geometry flag_gfw flag_ais   vessel_class_gfw  \n",
      "0  POINT (173.60000 -4.10000)      KOR      KOR  tuna_purse_seines  \n",
      "1  POINT (173.60000 -4.10000)      TWN      TWN  tuna_purse_seines  \n",
      "2  POINT (173.50000 -4.10000)      CHN      CHN  tuna_purse_seines  \n",
      "4  POINT (173.60000 -4.10000)      NRU      NaN  tuna_purse_seines  \n",
      "6  POINT (174.60000 -4.10000)      TWN      TWN  tuna_purse_seines  \n"
     ]
    }
   ],
   "source": [
    "print(KIR_2020_TunaPurseSeines.head())"
   ]
  },
  {
   "cell_type": "code",
   "execution_count": 35,
   "id": "d1ade5bd-eafa-4279-a3d5-36cf8a7b9e94",
   "metadata": {},
   "outputs": [
    {
     "data": {
      "text/plain": [
       "180871"
      ]
     },
     "execution_count": 35,
     "metadata": {},
     "output_type": "execute_result"
    }
   ],
   "source": [
    "len(KIR_2020_TunaPurseSeines)"
   ]
  },
  {
   "cell_type": "markdown",
   "id": "8e4342df-162f-41a1-92b0-9f08dcfba001",
   "metadata": {
    "tags": []
   },
   "source": [
    "### Add imo and other vessel identity attributes"
   ]
  },
  {
   "cell_type": "code",
   "execution_count": 36,
   "id": "c944108d-2216-4214-abe7-00d44636dded",
   "metadata": {},
   "outputs": [],
   "source": [
    "identity_auth_df = pd.read_csv('identity_authorization_v20220701.csv')"
   ]
  },
  {
   "cell_type": "code",
   "execution_count": 37,
   "id": "0d29987f-342a-4ac8-a76a-a00c8c8ff54a",
   "metadata": {},
   "outputs": [],
   "source": [
    "identity_core_df = pd.read_csv('identity_core_v20220701.csv')"
   ]
  },
  {
   "cell_type": "code",
   "execution_count": 38,
   "id": "b1b6cadc-42f3-4a47-a670-e6c7b20075fd",
   "metadata": {},
   "outputs": [],
   "source": [
    "identity_owner_df = pd.read_csv('identity_owner_v20220701.csv')"
   ]
  },
  {
   "cell_type": "code",
   "execution_count": 39,
   "id": "3046ac09-b758-4eeb-a956-1a336709f444",
   "metadata": {},
   "outputs": [
    {
     "name": "stdout",
     "output_type": "stream",
     "text": [
      "                                    vessel_record_id      ssvid n_shipname  \\\n",
      "0  AUS-191901|CCSBT-FV01286|IMO-8565355|IOTC-8593...  503555500     FISCO1   \n",
      "1  AUS-191901|CCSBT-FV01286|IMO-8565355|IOTC-8593...  503555500     FISCO1   \n",
      "2  AUS-191901|CCSBT-FV01286|IMO-8565355|IOTC-8593...  503555500     FISCO1   \n",
      "3  AUS-191901|CCSBT-FV01286|IMO-8565355|IOTC-8593...  503555500     FISCO1   \n",
      "4  AUS-191901|CCSBT-FV01286|IMO-8565355|IOTC-8593...  503555500     FISCO1   \n",
      "\n",
      "  n_callsign        imo flag          authorized_from  \\\n",
      "0    VHN9944  8565355.0  AUS  2012-05-11 00:00:00 UTC   \n",
      "1    VHN9944  8565355.0  AUS  2015-05-18 00:00:00 UTC   \n",
      "2    VHN9944  8565355.0  AUS  2016-04-27 00:00:00 UTC   \n",
      "3    VHN9944  8565355.0  AUS  2018-05-03 00:00:00 UTC   \n",
      "4    VHN9944  8565355.0  AUS  2019-03-20 00:00:00 UTC   \n",
      "\n",
      "             authorized_to source_code  \n",
      "0  2014-11-30 00:00:00 UTC       CCSBT  \n",
      "1  2015-11-30 00:00:00 UTC       CCSBT  \n",
      "2  2017-11-30 00:00:00 UTC       CCSBT  \n",
      "3  2018-11-30 00:00:00 UTC       CCSBT  \n",
      "4  2022-07-01 00:00:00 UTC       CCSBT  \n"
     ]
    }
   ],
   "source": [
    "print(identity_auth_df.head())"
   ]
  },
  {
   "cell_type": "code",
   "execution_count": 40,
   "id": "43d068bf-2ed2-4345-be0d-5c5cff63d339",
   "metadata": {},
   "outputs": [
    {
     "name": "stdout",
     "output_type": "stream",
     "text": [
      "                                    vessel_record_id      ssvid  \\\n",
      "0                                         AUS-152391  503010790   \n",
      "1                             AUS-178452|IMO-5348380  503127520   \n",
      "2  AUS-191901|CCSBT-FV01286|IMO-8565355|IOTC-8593...  503555500   \n",
      "3                             AUS-191908|IMO-7319759  503083330   \n",
      "4                                         AUS-196766  503096150   \n",
      "\n",
      "          shipname      n_shipname n_callsign        imo flag  \\\n",
      "0    JULIE BURGESS    JULIEBURGESS       VLJV        NaN  AUS   \n",
      "1           TACOMA          TACOMA        NaN  5348380.0  AUS   \n",
      "2          FISCO 1          FISCO1    VHN9944  8565355.0  AUS   \n",
      "3  RUBY ENTERPRISE  RUBYENTERPRISE     VL2084  7319759.0  AUS   \n",
      "4     OTWAY HUNTER     OTWAYHUNTER        NaN        NaN  AUS   \n",
      "\n",
      "           first_timestamp           last_timestamp            geartype  \\\n",
      "0  2014-12-08 08:04:56 UTC  2022-06-26 05:24:32 UTC             fishing   \n",
      "1  2022-02-09 05:51:06 UTC  2022-06-30 23:13:55 UTC             fishing   \n",
      "2  2013-07-24 03:42:34 UTC  2022-06-30 23:52:25 UTC  drifting_longlines   \n",
      "3  2019-03-25 03:09:02 UTC  2022-06-30 23:57:16 UTC             fishing   \n",
      "4  2020-09-03 05:56:29 UTC  2022-06-25 04:42:04 UTC             fishing   \n",
      "\n",
      "   length_m  tonnage_gt  engine_power_kw  is_fishing  is_carrier  is_bunker  \\\n",
      "0      17.3         NaN              NaN        True       False      False   \n",
      "1      23.7         NaN              NaN        True       False      False   \n",
      "2      20.9        61.5            299.0        True       False      False   \n",
      "3      23.3       209.0              NaN        True       False      False   \n",
      "4      12.3         NaN              NaN        True       False      False   \n",
      "\n",
      "                    source_code  multi_identity  timestamp_overlap  \n",
      "0                           AUS           False              False  \n",
      "1                           AUS           False              False  \n",
      "2  AUS, CCSBT, IMO, IOTC, WCPFC           False              False  \n",
      "3                      AUS, IMO           False              False  \n",
      "4                           AUS           False              False  \n"
     ]
    }
   ],
   "source": [
    "print(identity_core_df.head())"
   ]
  },
  {
   "cell_type": "code",
   "execution_count": 41,
   "id": "4096c8b5-2629-492d-900a-270672cf300c",
   "metadata": {},
   "outputs": [
    {
     "name": "stdout",
     "output_type": "stream",
     "text": [
      "                                    vessel_record_id      ssvid  \\\n",
      "0                                         AUS-152391  503010790   \n",
      "1                             AUS-178452|IMO-5348380  503127520   \n",
      "2  AUS-191901|CCSBT-FV01286|IMO-8565355|IOTC-8593...  503555500   \n",
      "3                             AUS-191908|IMO-7319759  503083330   \n",
      "4                             AUS-191908|IMO-7319759  503083330   \n",
      "\n",
      "       n_shipname n_callsign        imo flag                    owner  \\\n",
      "0    JULIEBURGESS       VLJV        NaN  AUS                      NaN   \n",
      "1          TACOMA        NaN  5348380.0  AUS                      NaN   \n",
      "2          FISCO1    VHN9944  8565355.0  AUS    DDD LAVALLE FISHERIES   \n",
      "3  RUBYENTERPRISE     VL2084  7319759.0  AUS                      NaN   \n",
      "4  RUBYENTERPRISE     VL2084  7319759.0  AUS  RUBY MARINE ENGINEERING   \n",
      "\n",
      "  owner_flag         source_code  \n",
      "0        AUS                 AUS  \n",
      "1        AUS                 AUS  \n",
      "2        AUS  CCSBT, IOTC, WCPFC  \n",
      "3        AUS                 AUS  \n",
      "4        AUS                 IMO  \n"
     ]
    }
   ],
   "source": [
    "print(identity_owner_df.head())"
   ]
  },
  {
   "cell_type": "code",
   "execution_count": 42,
   "id": "58b10b03-1a29-4f05-9e34-df53dbd6e515",
   "metadata": {},
   "outputs": [],
   "source": [
    "identity_auth_df.rename(columns={'ssvid': 'mmsi'}, inplace=True)\n",
    "identity_core_df.rename(columns={'ssvid': 'mmsi'}, inplace=True)\n",
    "identity_owner_df.rename(columns={'ssvid': 'mmsi'}, inplace=True)"
   ]
  },
  {
   "cell_type": "code",
   "execution_count": 43,
   "id": "08777347-8535-453a-865b-6fe921c0e5be",
   "metadata": {},
   "outputs": [
    {
     "name": "stdout",
     "output_type": "stream",
     "text": [
      "                                    vessel_record_id       mmsi n_shipname  \\\n",
      "0  AUS-191901|CCSBT-FV01286|IMO-8565355|IOTC-8593...  503555500     FISCO1   \n",
      "1  AUS-191901|CCSBT-FV01286|IMO-8565355|IOTC-8593...  503555500     FISCO1   \n",
      "2  AUS-191901|CCSBT-FV01286|IMO-8565355|IOTC-8593...  503555500     FISCO1   \n",
      "3  AUS-191901|CCSBT-FV01286|IMO-8565355|IOTC-8593...  503555500     FISCO1   \n",
      "4  AUS-191901|CCSBT-FV01286|IMO-8565355|IOTC-8593...  503555500     FISCO1   \n",
      "\n",
      "  n_callsign        imo flag          authorized_from  \\\n",
      "0    VHN9944  8565355.0  AUS  2012-05-11 00:00:00 UTC   \n",
      "1    VHN9944  8565355.0  AUS  2015-05-18 00:00:00 UTC   \n",
      "2    VHN9944  8565355.0  AUS  2016-04-27 00:00:00 UTC   \n",
      "3    VHN9944  8565355.0  AUS  2018-05-03 00:00:00 UTC   \n",
      "4    VHN9944  8565355.0  AUS  2019-03-20 00:00:00 UTC   \n",
      "\n",
      "             authorized_to source_code  \n",
      "0  2014-11-30 00:00:00 UTC       CCSBT  \n",
      "1  2015-11-30 00:00:00 UTC       CCSBT  \n",
      "2  2017-11-30 00:00:00 UTC       CCSBT  \n",
      "3  2018-11-30 00:00:00 UTC       CCSBT  \n",
      "4  2022-07-01 00:00:00 UTC       CCSBT  \n"
     ]
    }
   ],
   "source": [
    "print(identity_auth_df.head())"
   ]
  },
  {
   "cell_type": "code",
   "execution_count": 44,
   "id": "4bc53d37-5d47-4fcf-a40c-57cab472e558",
   "metadata": {},
   "outputs": [],
   "source": [
    "identity_table = pd.merge(identity_core_df, identity_auth_df, on=['vessel_record_id', 'mmsi', 'n_shipname', 'n_callsign', 'imo', 'flag'], how='left', suffixes=('', '_auth'))\n",
    "                          "
   ]
  },
  {
   "cell_type": "code",
   "execution_count": 45,
   "id": "6c596c98-c65d-4b95-8039-439ebebd3a50",
   "metadata": {},
   "outputs": [],
   "source": [
    "identity_table = pd.merge(identity_table, identity_owner_df, on=['vessel_record_id', 'mmsi', 'n_shipname', 'n_callsign', 'imo', 'flag'], how='left', suffixes=('', '_owner'))\n"
   ]
  },
  {
   "cell_type": "code",
   "execution_count": 46,
   "id": "72ec69b3-d6b2-4ddd-83c4-6e288383f36a",
   "metadata": {},
   "outputs": [
    {
     "name": "stdout",
     "output_type": "stream",
     "text": [
      "                                    vessel_record_id       mmsi  \\\n",
      "0                                         AUS-152391  503010790   \n",
      "1                             AUS-178452|IMO-5348380  503127520   \n",
      "2  AUS-191901|CCSBT-FV01286|IMO-8565355|IOTC-8593...  503555500   \n",
      "3  AUS-191901|CCSBT-FV01286|IMO-8565355|IOTC-8593...  503555500   \n",
      "4  AUS-191901|CCSBT-FV01286|IMO-8565355|IOTC-8593...  503555500   \n",
      "\n",
      "        shipname    n_shipname n_callsign        imo flag  \\\n",
      "0  JULIE BURGESS  JULIEBURGESS       VLJV        NaN  AUS   \n",
      "1         TACOMA        TACOMA        NaN  5348380.0  AUS   \n",
      "2        FISCO 1        FISCO1    VHN9944  8565355.0  AUS   \n",
      "3        FISCO 1        FISCO1    VHN9944  8565355.0  AUS   \n",
      "4        FISCO 1        FISCO1    VHN9944  8565355.0  AUS   \n",
      "\n",
      "           first_timestamp           last_timestamp            geartype  ...  \\\n",
      "0  2014-12-08 08:04:56 UTC  2022-06-26 05:24:32 UTC             fishing  ...   \n",
      "1  2022-02-09 05:51:06 UTC  2022-06-30 23:13:55 UTC             fishing  ...   \n",
      "2  2013-07-24 03:42:34 UTC  2022-06-30 23:52:25 UTC  drifting_longlines  ...   \n",
      "3  2013-07-24 03:42:34 UTC  2022-06-30 23:52:25 UTC  drifting_longlines  ...   \n",
      "4  2013-07-24 03:42:34 UTC  2022-06-30 23:52:25 UTC  drifting_longlines  ...   \n",
      "\n",
      "   is_bunker                   source_code  multi_identity  timestamp_overlap  \\\n",
      "0      False                           AUS           False              False   \n",
      "1      False                           AUS           False              False   \n",
      "2      False  AUS, CCSBT, IMO, IOTC, WCPFC           False              False   \n",
      "3      False  AUS, CCSBT, IMO, IOTC, WCPFC           False              False   \n",
      "4      False  AUS, CCSBT, IMO, IOTC, WCPFC           False              False   \n",
      "\n",
      "           authorized_from            authorized_to source_code_auth  \\\n",
      "0                      NaN                      NaN              NaN   \n",
      "1                      NaN                      NaN              NaN   \n",
      "2  2012-05-11 00:00:00 UTC  2014-11-30 00:00:00 UTC            CCSBT   \n",
      "3  2015-05-18 00:00:00 UTC  2015-11-30 00:00:00 UTC            CCSBT   \n",
      "4  2016-04-27 00:00:00 UTC  2017-11-30 00:00:00 UTC            CCSBT   \n",
      "\n",
      "                   owner  owner_flag   source_code_owner  \n",
      "0                    NaN         AUS                 AUS  \n",
      "1                    NaN         AUS                 AUS  \n",
      "2  DDD LAVALLE FISHERIES         AUS  CCSBT, IOTC, WCPFC  \n",
      "3  DDD LAVALLE FISHERIES         AUS  CCSBT, IOTC, WCPFC  \n",
      "4  DDD LAVALLE FISHERIES         AUS  CCSBT, IOTC, WCPFC  \n",
      "\n",
      "[5 rows x 25 columns]\n"
     ]
    }
   ],
   "source": [
    "print(identity_table.head())"
   ]
  },
  {
   "cell_type": "code",
   "execution_count": 7,
   "id": "ef3ffb4b-10cc-4a30-878a-96f3a2747f31",
   "metadata": {},
   "outputs": [],
   "source": [
    "# Reading in a 2020 effort file with no decimals under 'mmsi'\n",
    "#KIR_2020 = pd.read_csv('KIR_2020.csv')"
   ]
  },
  {
   "cell_type": "code",
   "execution_count": 47,
   "id": "5bbc87c0-c2bc-4ebd-9d1a-594abacbc338",
   "metadata": {},
   "outputs": [],
   "source": [
    "merged_df = pd.merge(KIR_2020_TunaPurseSeines,identity_table, on='mmsi', how='left')\n",
    "                          "
   ]
  },
  {
   "cell_type": "code",
   "execution_count": 52,
   "id": "b6cc8030-cbd4-4c32-b373-e53d592036a4",
   "metadata": {},
   "outputs": [
    {
     "name": "stdout",
     "output_type": "stream",
     "text": [
      "        mmsi        date  cell_ll_lat  cell_ll_lon   hours  fishing_hours  \\\n",
      "0  440823000  2020-10-02         -4.1        173.6  0.4080            0.0   \n",
      "1  440823000  2020-10-02         -4.1        173.6  0.4080            0.0   \n",
      "2  440823000  2020-10-02         -4.1        173.6  0.4080            0.0   \n",
      "3  416253900  2020-07-29         -4.1        173.6  0.0827            0.0   \n",
      "4  416253900  2020-07-29         -4.1        173.6  0.0827            0.0   \n",
      "\n",
      "                     geometry flag_gfw flag_ais   vessel_class_gfw  ...  \\\n",
      "0  POINT (173.60000 -4.10000)      KOR      KOR  tuna_purse_seines  ...   \n",
      "1  POINT (173.60000 -4.10000)      KOR      KOR  tuna_purse_seines  ...   \n",
      "2  POINT (173.60000 -4.10000)      KOR      KOR  tuna_purse_seines  ...   \n",
      "3  POINT (173.60000 -4.10000)      TWN      TWN  tuna_purse_seines  ...   \n",
      "4  POINT (173.60000 -4.10000)      TWN      TWN  tuna_purse_seines  ...   \n",
      "\n",
      "  is_bunker                                 source_code multi_identity  \\\n",
      "0     False  FFA, IMO, ISSF, KOR, RESEARCH-PAPER, WCPFC          False   \n",
      "1     False  FFA, IMO, ISSF, KOR, RESEARCH-PAPER, WCPFC          False   \n",
      "2     False  FFA, IMO, ISSF, KOR, RESEARCH-PAPER, WCPFC          False   \n",
      "3     False                       FFA, IMO, ISSF, WCPFC           True   \n",
      "4     False                       FFA, IMO, ISSF, WCPFC           True   \n",
      "\n",
      "  timestamp_overlap          authorized_from            authorized_to  \\\n",
      "0             False  2012-01-01 00:00:00 UTC  2018-04-28 00:00:00 UTC   \n",
      "1             False  2019-01-07 00:00:00 UTC  2022-06-30 00:00:00 UTC   \n",
      "2             False  2012-01-01 00:00:00 UTC  2022-07-01 00:00:00 UTC   \n",
      "3             False  2019-05-03 00:00:00 UTC  2022-07-01 00:00:00 UTC   \n",
      "4             False  2019-02-25 22:47:13 UTC  2022-07-01 00:00:00 UTC   \n",
      "\n",
      "  source_code_auth               owner owner_flag  source_code_owner  \n",
      "0              FFA  DONGWON ENTERPRISE        KOR     RESEARCH-PAPER  \n",
      "1              FFA  DONGWON ENTERPRISE        KOR     RESEARCH-PAPER  \n",
      "2            WCPFC  DONGWON ENTERPRISE        KOR     RESEARCH-PAPER  \n",
      "3              FFA  FONG KUO FISHERIES        TWN    FFA, IMO, WCPFC  \n",
      "4            WCPFC  FONG KUO FISHERIES        TWN    FFA, IMO, WCPFC  \n",
      "\n",
      "[5 rows x 34 columns]\n"
     ]
    }
   ],
   "source": [
    "print(merged_df.head())"
   ]
  },
  {
   "cell_type": "code",
   "execution_count": 49,
   "id": "7deffd58-5bd6-4a7c-b8c3-8834b24873f3",
   "metadata": {},
   "outputs": [
    {
     "data": {
      "text/plain": [
       "574885"
      ]
     },
     "execution_count": 49,
     "metadata": {},
     "output_type": "execute_result"
    }
   ],
   "source": [
    "len(merged_df)"
   ]
  },
  {
   "cell_type": "code",
   "execution_count": 53,
   "id": "a0d5e786-0267-4c9c-8ade-0bfb96a726f2",
   "metadata": {},
   "outputs": [],
   "source": [
    "# Remove duplicate observations\n",
    "merged_df_EDIT = merged_df.drop_duplicates(subset=['mmsi','date','cell_ll_lat','cell_ll_lon', 'hours', 'fishing_hours'], keep='first')"
   ]
  },
  {
   "cell_type": "code",
   "execution_count": 55,
   "id": "9fcbc883-2d3d-4fe1-9f16-ff6be92a74c3",
   "metadata": {
    "tags": []
   },
   "outputs": [
    {
     "data": {
      "text/plain": [
       "180871"
      ]
     },
     "execution_count": 55,
     "metadata": {},
     "output_type": "execute_result"
    }
   ],
   "source": [
    "# Checking that dataset is the correct length\n",
    "len(merged_df_EDIT)"
   ]
  },
  {
   "cell_type": "code",
   "execution_count": 54,
   "id": "25900047-0ea7-433b-b06d-ab44b8c03e46",
   "metadata": {},
   "outputs": [
    {
     "name": "stdout",
     "output_type": "stream",
     "text": [
      "Index(['mmsi', 'date', 'cell_ll_lat', 'cell_ll_lon', 'hours', 'fishing_hours',\n",
      "       'geometry', 'flag_gfw', 'flag_ais', 'vessel_class_gfw',\n",
      "       'vessel_record_id', 'shipname', 'n_shipname', 'n_callsign', 'imo',\n",
      "       'flag', 'first_timestamp', 'last_timestamp', 'geartype', 'length_m',\n",
      "       'tonnage_gt', 'engine_power_kw', 'is_fishing', 'is_carrier',\n",
      "       'is_bunker', 'source_code', 'multi_identity', 'timestamp_overlap',\n",
      "       'authorized_from', 'authorized_to', 'source_code_auth', 'owner',\n",
      "       'owner_flag', 'source_code_owner'],\n",
      "      dtype='object')\n"
     ]
    }
   ],
   "source": [
    "print(merged_df_EDIT.columns)"
   ]
  },
  {
   "cell_type": "code",
   "execution_count": 56,
   "id": "14903f7d-a1c8-47a4-a9a0-ecac05797057",
   "metadata": {},
   "outputs": [],
   "source": [
    "merged_df_EDIT = merged_df_EDIT.drop(columns=['is_fishing','is_carrier','is_bunker','multi_identity','first_timestamp','last_timestamp','timestamp_overlap'])\n"
   ]
  },
  {
   "cell_type": "code",
   "execution_count": 57,
   "id": "9d80b2c3-32d0-4b4d-a1ff-0d8dfd804d58",
   "metadata": {},
   "outputs": [],
   "source": [
    "merged_df_EDIT = merged_df_EDIT.drop(columns=['authorized_from','authorized_to','source_code_auth','source_code','shipname'])"
   ]
  },
  {
   "cell_type": "code",
   "execution_count": 64,
   "id": "3a52ee14-c853-42ee-b925-8b991309d60c",
   "metadata": {},
   "outputs": [
    {
     "name": "stdout",
     "output_type": "stream",
     "text": [
      "Index(['mmsi', 'date', 'cell_ll_lat', 'cell_ll_lon', 'hours', 'fishing_hours',\n",
      "       'geometry', 'flag_gfw', 'flag_ais', 'vessel_class_gfw',\n",
      "       'vessel_record_id', 'n_shipname', 'n_callsign', 'imo', 'flag',\n",
      "       'geartype', 'length_m', 'tonnage_gt', 'engine_power_kw', 'owner',\n",
      "       'owner_flag', 'source_code_owner'],\n",
      "      dtype='object')\n"
     ]
    }
   ],
   "source": [
    "print(merged_df_EDIT.columns)"
   ]
  },
  {
   "cell_type": "code",
   "execution_count": 61,
   "id": "270c2283-6ab2-438f-84cb-820b9fd17de5",
   "metadata": {},
   "outputs": [],
   "source": [
    "del merged_df"
   ]
  },
  {
   "cell_type": "code",
   "execution_count": 62,
   "id": "4390112f-8a4e-4144-9690-48de396a88fe",
   "metadata": {},
   "outputs": [],
   "source": [
    "merged_df_EDIT.to_csv(\"KIR_2020_identity.csv\")"
   ]
  },
  {
   "cell_type": "code",
   "execution_count": 63,
   "id": "30d5262a-6c39-4857-975e-8a3b0cb27d70",
   "metadata": {},
   "outputs": [
    {
     "name": "stderr",
     "output_type": "stream",
     "text": [
      "/tmp/ipykernel_359/1829810837.py:1: UserWarning: Column names longer than 10 characters will be truncated when saved to ESRI Shapefile.\n",
      "  merged_df_EDIT.to_file(\"KIR_2020_identity.shp\")\n"
     ]
    }
   ],
   "source": [
    "merged_df_EDIT.to_file(\"KIR_2020_identity.shp\")"
   ]
  },
  {
   "cell_type": "markdown",
   "id": "1e063555-af89-4dbe-af6c-a70e097a1ebb",
   "metadata": {
    "tags": []
   },
   "source": [
    "## Extra step - extracting all tuna purse seine effort globally"
   ]
  },
  {
   "cell_type": "code",
   "execution_count": 21,
   "id": "25ff2afc-76a2-42e4-9964-091a72778ee0",
   "metadata": {},
   "outputs": [],
   "source": [
    "flag_gear_df = pd.read_csv('fishing-vessels-v2.csv')"
   ]
  },
  {
   "cell_type": "code",
   "execution_count": 22,
   "id": "a0f7dd6d-b9eb-43f1-9cbb-1ca0b88ff561",
   "metadata": {},
   "outputs": [],
   "source": [
    "GFW_2020 = pd.merge(GFW2020Points, flag_gear_df[['mmsi','flag_gfw','flag_ais','vessel_class_gfw']], on='mmsi', how='left')"
   ]
  },
  {
   "cell_type": "code",
   "execution_count": 23,
   "id": "0b9a586b-8a7f-467f-8374-1eedcbd5047e",
   "metadata": {},
   "outputs": [],
   "source": [
    "GFW_2020_TunaPurseSeines = GFW_2020[GFW_2020['vessel_class_gfw'] == 'tuna_purse_seines']"
   ]
  },
  {
   "cell_type": "code",
   "execution_count": 25,
   "id": "9b5c20a8-d7c5-4a96-b970-e9ff08c4af0d",
   "metadata": {},
   "outputs": [
    {
     "name": "stdout",
     "output_type": "stream",
     "text": [
      "     mmsi        date  cell_ll_lat  cell_ll_lon   hours  fishing_hours  \\\n",
      "272   238  2020-01-11          6.8         79.4  0.3038         0.0000   \n",
      "273   238  2020-01-11          6.8         79.5  0.0738         0.0000   \n",
      "274   238  2020-01-11          6.9         79.5  1.4372         0.0000   \n",
      "275   238  2020-01-11          6.9         79.6  1.5183         0.5986   \n",
      "276   238  2020-01-11          6.9         79.7  1.4813         0.0000   \n",
      "\n",
      "                     geometry flag_gfw flag_ais   vessel_class_gfw  \n",
      "272  POINT (79.40000 6.80000)      NaN      NaN  tuna_purse_seines  \n",
      "273  POINT (79.50000 6.80000)      NaN      NaN  tuna_purse_seines  \n",
      "274  POINT (79.50000 6.90000)      NaN      NaN  tuna_purse_seines  \n",
      "275  POINT (79.60000 6.90000)      NaN      NaN  tuna_purse_seines  \n",
      "276  POINT (79.70000 6.90000)      NaN      NaN  tuna_purse_seines  \n"
     ]
    }
   ],
   "source": [
    "print(GFW_2020_TunaPurseSeines.head())"
   ]
  },
  {
   "cell_type": "code",
   "execution_count": 26,
   "id": "4e7e54cb-36a2-42c9-a289-9ad10e2bc754",
   "metadata": {},
   "outputs": [],
   "source": [
    "GFW_2020_TunaPurseSeines.to_csv(\"GFW_2020_TunaPurseSeines.csv\")"
   ]
  },
  {
   "cell_type": "code",
   "execution_count": 28,
   "id": "15975792-7742-4eed-863a-8fc26feadf84",
   "metadata": {},
   "outputs": [
    {
     "name": "stderr",
     "output_type": "stream",
     "text": [
      "/tmp/ipykernel_429/2159023661.py:1: UserWarning: Column names longer than 10 characters will be truncated when saved to ESRI Shapefile.\n",
      "  GFW_2020_TunaPurseSeines.to_file(\"GFW_2020_TunaPurseSeines.shp\")\n"
     ]
    }
   ],
   "source": [
    "GFW_2020_TunaPurseSeines.to_file(\"GFW_2020_TunaPurseSeines.shp\")"
   ]
  },
  {
   "cell_type": "code",
   "execution_count": null,
   "id": "02bd0e9f-b564-4e3a-b3eb-6e322ab79725",
   "metadata": {},
   "outputs": [],
   "source": []
  }
 ],
 "metadata": {
  "kernelspec": {
   "display_name": "Python 3 (ipykernel)",
   "language": "python",
   "name": "python3"
  },
  "language_info": {
   "codemirror_mode": {
    "name": "ipython",
    "version": 3
   },
   "file_extension": ".py",
   "mimetype": "text/x-python",
   "name": "python",
   "nbconvert_exporter": "python",
   "pygments_lexer": "ipython3",
   "version": "3.10.8"
  }
 },
 "nbformat": 4,
 "nbformat_minor": 5
}
